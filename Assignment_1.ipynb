{
  "nbformat": 4,
  "nbformat_minor": 0,
  "metadata": {
    "colab": {
      "provenance": [],
      "authorship_tag": "ABX9TyPC0j22dKt8frIFGsGsYonS",
      "include_colab_link": true
    },
    "kernelspec": {
      "name": "python3",
      "display_name": "Python 3"
    },
    "language_info": {
      "name": "python"
    }
  },
  "cells": [
    {
      "cell_type": "markdown",
      "metadata": {
        "id": "view-in-github",
        "colab_type": "text"
      },
      "source": [
        "<a href=\"https://colab.research.google.com/github/Akramuddin2303A510F6/RL_B_11-10F6/blob/main/Assignment_1.ipynb\" target=\"_parent\"><img src=\"https://colab.research.google.com/assets/colab-badge.svg\" alt=\"Open In Colab\"/></a>"
      ]
    },
    {
      "cell_type": "code",
      "execution_count": 1,
      "metadata": {
        "colab": {
          "base_uri": "https://localhost:8080/"
        },
        "id": "bGPX7rIw1lXy",
        "outputId": "23826af7-d18e-4f8f-e57c-892737ad38ad"
      },
      "outputs": [
        {
          "output_type": "stream",
          "name": "stdout",
          "text": [
            "Expected reward for taking action 'Use_Solar' in state 'LowDemand_Sunny': 10.0\n"
          ]
        }
      ],
      "source": [
        "import numpy as np\n",
        "\n",
        "# Define MDP components\n",
        "states = ['LowDemand_Sunny', 'HighDemand_Sunny', 'LowDemand_Cloudy', 'HighDemand_Cloudy']\n",
        "actions = ['Use_Solar', 'Use_Generator']\n",
        "gamma = 0.9  # Discount factor\n",
        "\n",
        "# Reward function: R(s, a, s')\n",
        "def reward(state, action, next_state):\n",
        "    if 'Sunny' in state and action == 'Use_Solar':\n",
        "        if 'LowDemand' in state or 'HighDemand' in state:\n",
        "            return 10  # met demand using solar\n",
        "    elif action == 'Use_Generator':\n",
        "        return 5  # met demand with generator\n",
        "    return -5  # failed to meet demand\n",
        "\n",
        "# Transition probabilities: P(s'|s,a)\n",
        "# Here we define them manually for simplicity\n",
        "transitions = {\n",
        "    ('LowDemand_Sunny', 'Use_Solar'): {'LowDemand_Sunny': 0.6, 'HighDemand_Sunny': 0.4},\n",
        "    ('HighDemand_Sunny', 'Use_Solar'): {'LowDemand_Cloudy': 0.5, 'HighDemand_Cloudy': 0.5},\n",
        "    ('LowDemand_Cloudy', 'Use_Solar'): {'LowDemand_Sunny': 0.3, 'HighDemand_Sunny': 0.7},\n",
        "    ('HighDemand_Cloudy', 'Use_Solar'): {'LowDemand_Cloudy': 0.6, 'HighDemand_Cloudy': 0.4},\n",
        "\n",
        "    ('LowDemand_Sunny', 'Use_Generator'): {'LowDemand_Sunny': 1.0},\n",
        "    ('HighDemand_Sunny', 'Use_Generator'): {'HighDemand_Sunny': 1.0},\n",
        "    ('LowDemand_Cloudy', 'Use_Generator'): {'LowDemand_Cloudy': 1.0},\n",
        "    ('HighDemand_Cloudy', 'Use_Generator'): {'HighDemand_Cloudy': 1.0},\n",
        "}\n",
        "\n",
        "# Function to compute expected value of a state-action pair\n",
        "def expected_value(state, action):\n",
        "    total = 0\n",
        "    if (state, action) in transitions:\n",
        "        for next_state, prob in transitions[(state, action)].items():\n",
        "            r = reward(state, action, next_state)\n",
        "            total += prob * (r)\n",
        "    return total\n",
        "\n",
        "# Example calculation: expected value for state 'LowDemand_Sunny' taking action 'Use_Solar'\n",
        "state = 'LowDemand_Sunny'\n",
        "action = 'Use_Solar'\n",
        "value = expected_value(state, action)\n",
        "print(f\"Expected reward for taking action '{action}' in state '{state}': {value}\")\n"
      ]
    },
    {
      "cell_type": "code",
      "source": [
        "# Define the set of states\n",
        "# S1: Solar power is sufficient to meet demand\n",
        "# S2: Solar power is insufficient, but generator can meet demand\n",
        "# S3: Solar power is insufficient, and generator cannot meet demand\n",
        "states = ['S1', 'S2', 'S3']\n",
        "\n",
        "# Define the set of actions\n",
        "# A0: Do not activate the generator\n",
        "# A1: Activate the generator\n",
        "actions = ['A0', 'A1']\n",
        "\n",
        "# Define transition probabilities P(s'|s)\n",
        "# These are action-independent and reflect solar availability changes\n",
        "transition_probs = {\n",
        "    'S1': {'S1': 0.7, 'S2': 0.2, 'S3': 0.1},  # From S1\n",
        "    'S2': {'S1': 0.3, 'S2': 0.4, 'S3': 0.3},  # From S2\n",
        "    'S3': {'S1': 0.2, 'S2': 0.3, 'S3': 0.5}   # From S3\n",
        "}\n",
        "\n",
        "# Define reward function R(s, a)\n",
        "# +10 for meeting demand with solar only\n",
        "# +5 for meeting demand with generator\n",
        "# -5 for failing to meet demand\n",
        "rewards = {\n",
        "    ('S1', 'A0'): 10,   # Solar sufficient, no generator\n",
        "    ('S1', 'A1'): 5,    # Solar sufficient, generator used unnecessarily\n",
        "    ('S2', 'A0'): -5,   # Solar insufficient, no generator\n",
        "    ('S2', 'A1'): 5,    # Solar insufficient, generator meets demand\n",
        "    ('S3', 'A0'): -5,   # Solar and generator insufficient, no generator\n",
        "    ('S3', 'A1'): -5    # Solar and generator insufficient, generator used\n",
        "}\n",
        "\n",
        "# Define the discount factor\n",
        "gamma = 0.9\n",
        "\n",
        "# Optional: Print the MDP components to verify\n",
        "print(\"States:\", states)\n",
        "print(\"Actions:\", actions)\n",
        "print(\"Transition Probabilities:\", transition_probs)\n",
        "print(\"Rewards:\", rewards)\n",
        "print(\"Discount Factor:\", gamma)"
      ],
      "metadata": {
        "colab": {
          "base_uri": "https://localhost:8080/"
        },
        "id": "7EBQ_iZ21p_b",
        "outputId": "062d1e7e-a4b2-45aa-e1d0-cb77d401fbac"
      },
      "execution_count": 2,
      "outputs": [
        {
          "output_type": "stream",
          "name": "stdout",
          "text": [
            "States: ['S1', 'S2', 'S3']\n",
            "Actions: ['A0', 'A1']\n",
            "Transition Probabilities: {'S1': {'S1': 0.7, 'S2': 0.2, 'S3': 0.1}, 'S2': {'S1': 0.3, 'S2': 0.4, 'S3': 0.3}, 'S3': {'S1': 0.2, 'S2': 0.3, 'S3': 0.5}}\n",
            "Rewards: {('S1', 'A0'): 10, ('S1', 'A1'): 5, ('S2', 'A0'): -5, ('S2', 'A1'): 5, ('S3', 'A0'): -5, ('S3', 'A1'): -5}\n",
            "Discount Factor: 0.9\n"
          ]
        }
      ]
    }
  ]
}